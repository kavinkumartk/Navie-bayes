{
 "cells": [
  {
   "cell_type": "code",
   "execution_count": 3,
   "id": "12bb7412",
   "metadata": {},
   "outputs": [
    {
     "name": "stdout",
     "output_type": "stream",
     "text": [
      "   word_freq_free  word_freq_win  word_freq_offer  sms_length  is_spam\n",
      "0               0              0                0         111        0\n",
      "1               0              0                0          29        0\n",
      "2               1              1                0         155        1\n",
      "3               0              0                0          49        0\n",
      "4               0              0                0          61        0\n"
     ]
    }
   ],
   "source": [
    "import pandas as pd\n",
    "df = pd.read_csv(\"spam.csv\", encoding=\"latin-1\")[['v1','v2']]\n",
    "df.columns = ['label','message']\n",
    "df['is_spam'] = df['label'].map({'ham':0,'spam':1})\n",
    "df['word_freq_free'] = df['message'].str.lower().str.count('free')\n",
    "df['word_freq_win'] = df['message'].str.lower().str.count('win')\n",
    "df['word_freq_offer'] = df['message'].str.lower().str.count('offer')\n",
    "df['sms_length'] = df['message'].str.len()\n",
    "df_features = df[['word_freq_free','word_freq_win','word_freq_offer','sms_length','is_spam']]\n",
    "print(df_features.head())"
   ]
  },
  {
   "cell_type": "code",
   "execution_count": 6,
   "id": "66c93d1a",
   "metadata": {},
   "outputs": [],
   "source": [
    "df_features.to_csv(\"df_features.csv\", index=False)"
   ]
  }
 ],
 "metadata": {
  "kernelspec": {
   "display_name": "Python (myenv)",
   "language": "python",
   "name": "myenv"
  },
  "language_info": {
   "codemirror_mode": {
    "name": "ipython",
    "version": 3
   },
   "file_extension": ".py",
   "mimetype": "text/x-python",
   "name": "python",
   "nbconvert_exporter": "python",
   "pygments_lexer": "ipython3",
   "version": "3.13.5"
  }
 },
 "nbformat": 4,
 "nbformat_minor": 5
}
